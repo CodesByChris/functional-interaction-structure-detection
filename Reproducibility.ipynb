{
 "cells": [
  {
   "cell_type": "markdown",
   "id": "e871c14a",
   "metadata": {},
   "source": [
    "# Detection of Functional Interaction Structure"
   ]
  },
  {
   "cell_type": "markdown",
   "id": "d917594e",
   "metadata": {},
   "source": [
    "This Notebook exemplifies the methodology to detect the functional interaction structure of software development teams as explained in the paper:\n",
    "```\n",
    "Title:   Detecting the Functional Interaction Structure of Software Development Teams\n",
    "Authors: Christian Zingg, Alexander von Gernler, Carsten Arzig, Frank Schweitzer, Christoph Gote\n",
    "```\n",
    "\n",
    "Visual differences to figures in paper:\n",
    "1. This Notebook uses synthetic data because the data from _genua GmbH_ used in the paper is confidential and cannot be released.\n",
    "\n",
    "2. The figures in the paper were rendered in TikZ and not R."
   ]
  },
  {
   "cell_type": "markdown",
   "id": "83a2e514",
   "metadata": {},
   "source": [
    "## Initialization"
   ]
  },
  {
   "cell_type": "code",
   "execution_count": null,
   "id": "e3f637e1",
   "metadata": {},
   "outputs": [],
   "source": [
    "library(igraph)\n",
    "library(magrittr)\n",
    "library(potentiality)\n",
    "\n",
    "source(\"libs/organigraph.r\")\n",
    "\n",
    "\n",
    "# Tools and Settings\n",
    "role_colors <- c(\"Developer\" = \"red\", \"Stakeholder\" = \"blue\", \"Product-Owner\" = \"green\")\n",
    "plot_helper <- function(role_network) {\n",
    "    plot_role_network(role_network, role_colors = role_colors, node_sizes_range_to = 20,\n",
    "                      show_weights = TRUE, margin = rep(0.2, 4))\n",
    "}"
   ]
  },
  {
   "cell_type": "code",
   "execution_count": null,
   "id": "027ccae7",
   "metadata": {},
   "outputs": [],
   "source": [
    "# Initializing network from Figure 3 (a)\n",
    "example_network <- make_empty_graph(0) +\n",
    "    vertices(name = c(\"d1\", \"d2\", \"d3\", \"s1\", \"s2\", \"p\"),\n",
    "             role = c(rep(\"Developer\", 3), rep(\"Stakeholder\", 2), \"Product-Owner\")) +\n",
    "    edges(rep(c(\"d1\", \"d2\"), 500),\n",
    "          rep(c(\"d2\", \"d3\"), 500),\n",
    "          rep(c(\"d3\", \"d1\"), 500),\n",
    "          rep(c(\"s1\", \"s2\"), 10),\n",
    "          rep(c(\"s2\", \"s1\"), 10),\n",
    "          rep(c(\"p\",  \"d3\"), 50),\n",
    "          rep(c(\"p\",  \"s2\"), 10))\n",
    "plot(example_network)"
   ]
  },
  {
   "cell_type": "markdown",
   "id": "7ddb6e51",
   "metadata": {},
   "source": [
    "## Replicate Figure 2"
   ]
  },
  {
   "cell_type": "code",
   "execution_count": null,
   "id": "12aec0dc",
   "metadata": {},
   "outputs": [],
   "source": [
    "plot_helper(role_network_counts(example_network))"
   ]
  },
  {
   "cell_type": "markdown",
   "id": "1ad0addc",
   "metadata": {},
   "source": [
    "## Replicate Figure 3(b)"
   ]
  },
  {
   "cell_type": "code",
   "execution_count": null,
   "id": "23ea30c2",
   "metadata": {},
   "outputs": [],
   "source": [
    "ens <- role_ensemble(example_network)\n",
    "\n",
    "plot_helper(role_network_bccm(ens))\n",
    "# TODO: DOUBLE-CHECK VALUES"
   ]
  },
  {
   "cell_type": "markdown",
   "id": "05528fdc",
   "metadata": {},
   "source": [
    "## Replicate Figure 3(c)"
   ]
  },
  {
   "cell_type": "code",
   "execution_count": null,
   "id": "3bdab6eb",
   "metadata": {},
   "outputs": [],
   "source": [
    "plot_helper(role_network_bccm_norm(ens))\n",
    "# TODO: DOUBLE-CHECK VALUES"
   ]
  },
  {
   "cell_type": "markdown",
   "id": "3c2d8f11",
   "metadata": {},
   "source": [
    "## Replicate Figure 5(b)"
   ]
  },
  {
   "cell_type": "code",
   "execution_count": null,
   "id": "7d2a5e99",
   "metadata": {},
   "outputs": [],
   "source": [
    "# Positive Preferences\n",
    "\n",
    "plot_helper(role_network_bccm_norm(ens, \"positive\"))\n",
    "# TODO: DOUBLE-CHECK VALUES"
   ]
  },
  {
   "cell_type": "code",
   "execution_count": null,
   "id": "2e7ac55a",
   "metadata": {},
   "outputs": [],
   "source": [
    "# Negative Preferences\n",
    "\n",
    "plot_helper(role_network_bccm_norm(ens, \"negative\"))\n",
    "# TODO: DOUBLE-CHECK VALUES"
   ]
  },
  {
   "cell_type": "markdown",
   "id": "efaf0fc2",
   "metadata": {},
   "source": [
    "## Replicate Figure 7"
   ]
  },
  {
   "cell_type": "markdown",
   "id": "511d7141",
   "metadata": {},
   "source": [
    "We show the computation of the observed interactions (`obsInt`) and the two benchmark scenarios `ecdeDevs` and `ecdeAll` explained in the paper.\n",
    "\n",
    "Notice that the `Developer` role in `example_network` has a strong preference to interact with members of the same role but nobody else.\n",
    "In scenario `ecdeDevs`, this tendency will be broken up, resulting in a higher potentiality than `obsInt`.\n",
    "In scenario `ecdeAll`, the tendencies will be broken up for all roles, especially also for the `Stakeholders` who interact preferentially among themselves too.\n",
    "This will result in an even higher potentiality in the scenario `ecdeAll` than in `ecdeDevs`.\n",
    "In total, we expect the following ordering:\n",
    "$$\\text{Potentiality}(\\text{obsInt}) \\leq \\text{Potentiality}(\\text{ecdeDevs}) \\leq \\text{Potentiality}(\\text{ecdeAll})$$"
   ]
  },
  {
   "cell_type": "code",
   "execution_count": null,
   "id": "0fd7f2a1",
   "metadata": {},
   "outputs": [],
   "source": [
    "# Fit ensemble for ecdeDevs\n",
    "\n",
    "replace_roles_devonly <- function(network) {\n",
    "    # Every nodes gets its own role except Developers.\n",
    "    new_roles <- ifelse(V(network)$role == \"Developer\",\n",
    "                        \"Developer\",\n",
    "                        paste0(\"meta_\", V(network)$name))\n",
    "    V(network)$role <- new_roles\n",
    "    return(network)\n",
    "}\n",
    "\n",
    "ens_devonly <- role_ensemble(replace_roles_devonly(example_network))"
   ]
  },
  {
   "cell_type": "code",
   "execution_count": null,
   "id": "07898fce",
   "metadata": {},
   "outputs": [],
   "source": [
    "# Compute benchmark values\n",
    "\n",
    "cat(\"obsInt:   \", potentiality(example_network), \"\\n\")\n",
    "cat(\"ecdeDevs: \", quantile(benchmark_scenario(ens_devonly, potentiality), c(0.025, 0.975)), \"\\n\")\n",
    "cat(\"ecdeAll:  \", quantile(benchmark_scenario(ens, potentiality), c(0.025, 0.975)))\n",
    "# TODO: DOUBLE-CHECK VALUES"
   ]
  }
 ],
 "metadata": {
  "kernelspec": {
   "display_name": "R",
   "language": "R",
   "name": "ir"
  },
  "language_info": {
   "codemirror_mode": "r",
   "file_extension": ".r",
   "mimetype": "text/x-r-source",
   "name": "R",
   "pygments_lexer": "r",
   "version": "4.2.2"
  }
 },
 "nbformat": 4,
 "nbformat_minor": 5
}
